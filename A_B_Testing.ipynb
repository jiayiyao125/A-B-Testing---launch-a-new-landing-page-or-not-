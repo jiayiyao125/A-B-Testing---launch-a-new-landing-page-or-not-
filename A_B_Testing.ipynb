{
  "nbformat": 4,
  "nbformat_minor": 0,
  "metadata": {
    "colab": {
      "name": "A/B Testing.ipynb",
      "provenance": [],
      "collapsed_sections": []
    },
    "kernelspec": {
      "name": "python3",
      "display_name": "Python 3"
    },
    "language_info": {
      "name": "python"
    }
  },
  "cells": [
    {
      "cell_type": "markdown",
      "source": [
        "# Statistical Analysis: A/B testing"
      ],
      "metadata": {
        "id": "EIYYWVMirez7"
      }
    },
    {
      "cell_type": "markdown",
      "source": [
        "# Project Objective\n",
        "The purpose of this project is to quickly analyze the performance of old page vs new page and conduct an A/B testing to see which one performs better. The metric is conversion rate.\n",
        "\n",
        "The dataset can be found here: https://www.kaggle.com/datasets/zhangluyuan/ab-testing\n",
        "\n",
        "# Methods Used\n",
        "* Inferential Statistics\n",
        "* Data Visualization\n",
        "* A/B Testing\n",
        "\n",
        "# Data Description\n",
        "The dataset contains 300,000 observations and five columns. The target variable is \"converted\""
      ],
      "metadata": {
        "id": "YMHhvJYdsdzi"
      }
    },
    {
      "cell_type": "markdown",
      "source": [
        "# 1. Quick data cleaning, analysis and visualization"
      ],
      "metadata": {
        "id": "t8_8cCbozTx1"
      }
    },
    {
      "cell_type": "code",
      "execution_count": 95,
      "metadata": {
        "id": "lsuOlPqprdcd"
      },
      "outputs": [],
      "source": [
        "import pandas as pd\n",
        "import numpy as np\n",
        "import matplotlib.pyplot as plt\n",
        "%matplotlib inline\n",
        "import seaborn as sns\n",
        "import scipy.stats as stats\n",
        "import statsmodels.stats.api as sms"
      ]
    },
    {
      "cell_type": "code",
      "source": [
        "df = pd.read_csv('ab_data.csv')\n",
        "df.head()"
      ],
      "metadata": {
        "colab": {
          "base_uri": "https://localhost:8080/",
          "height": 206
        },
        "id": "OveE1EcUu8Nq",
        "outputId": "8f995c69-52f3-4adc-eb21-37738451050d"
      },
      "execution_count": 37,
      "outputs": [
        {
          "output_type": "execute_result",
          "data": {
            "text/plain": [
              "   user_id                   timestamp      group landing_page  converted\n",
              "0   851104  2017-01-21 22:11:48.556739    control     old_page          0\n",
              "1   804228  2017-01-12 08:01:45.159739    control     old_page          0\n",
              "2   661590  2017-01-11 16:55:06.154213  treatment     new_page          0\n",
              "3   853541  2017-01-08 18:28:03.143765  treatment     new_page          0\n",
              "4   864975  2017-01-21 01:52:26.210827    control     old_page          1"
            ],
            "text/html": [
              "\n",
              "  <div id=\"df-711df6bd-3a9a-43fe-b295-addaa399a06d\">\n",
              "    <div class=\"colab-df-container\">\n",
              "      <div>\n",
              "<style scoped>\n",
              "    .dataframe tbody tr th:only-of-type {\n",
              "        vertical-align: middle;\n",
              "    }\n",
              "\n",
              "    .dataframe tbody tr th {\n",
              "        vertical-align: top;\n",
              "    }\n",
              "\n",
              "    .dataframe thead th {\n",
              "        text-align: right;\n",
              "    }\n",
              "</style>\n",
              "<table border=\"1\" class=\"dataframe\">\n",
              "  <thead>\n",
              "    <tr style=\"text-align: right;\">\n",
              "      <th></th>\n",
              "      <th>user_id</th>\n",
              "      <th>timestamp</th>\n",
              "      <th>group</th>\n",
              "      <th>landing_page</th>\n",
              "      <th>converted</th>\n",
              "    </tr>\n",
              "  </thead>\n",
              "  <tbody>\n",
              "    <tr>\n",
              "      <th>0</th>\n",
              "      <td>851104</td>\n",
              "      <td>2017-01-21 22:11:48.556739</td>\n",
              "      <td>control</td>\n",
              "      <td>old_page</td>\n",
              "      <td>0</td>\n",
              "    </tr>\n",
              "    <tr>\n",
              "      <th>1</th>\n",
              "      <td>804228</td>\n",
              "      <td>2017-01-12 08:01:45.159739</td>\n",
              "      <td>control</td>\n",
              "      <td>old_page</td>\n",
              "      <td>0</td>\n",
              "    </tr>\n",
              "    <tr>\n",
              "      <th>2</th>\n",
              "      <td>661590</td>\n",
              "      <td>2017-01-11 16:55:06.154213</td>\n",
              "      <td>treatment</td>\n",
              "      <td>new_page</td>\n",
              "      <td>0</td>\n",
              "    </tr>\n",
              "    <tr>\n",
              "      <th>3</th>\n",
              "      <td>853541</td>\n",
              "      <td>2017-01-08 18:28:03.143765</td>\n",
              "      <td>treatment</td>\n",
              "      <td>new_page</td>\n",
              "      <td>0</td>\n",
              "    </tr>\n",
              "    <tr>\n",
              "      <th>4</th>\n",
              "      <td>864975</td>\n",
              "      <td>2017-01-21 01:52:26.210827</td>\n",
              "      <td>control</td>\n",
              "      <td>old_page</td>\n",
              "      <td>1</td>\n",
              "    </tr>\n",
              "  </tbody>\n",
              "</table>\n",
              "</div>\n",
              "      <button class=\"colab-df-convert\" onclick=\"convertToInteractive('df-711df6bd-3a9a-43fe-b295-addaa399a06d')\"\n",
              "              title=\"Convert this dataframe to an interactive table.\"\n",
              "              style=\"display:none;\">\n",
              "        \n",
              "  <svg xmlns=\"http://www.w3.org/2000/svg\" height=\"24px\"viewBox=\"0 0 24 24\"\n",
              "       width=\"24px\">\n",
              "    <path d=\"M0 0h24v24H0V0z\" fill=\"none\"/>\n",
              "    <path d=\"M18.56 5.44l.94 2.06.94-2.06 2.06-.94-2.06-.94-.94-2.06-.94 2.06-2.06.94zm-11 1L8.5 8.5l.94-2.06 2.06-.94-2.06-.94L8.5 2.5l-.94 2.06-2.06.94zm10 10l.94 2.06.94-2.06 2.06-.94-2.06-.94-.94-2.06-.94 2.06-2.06.94z\"/><path d=\"M17.41 7.96l-1.37-1.37c-.4-.4-.92-.59-1.43-.59-.52 0-1.04.2-1.43.59L10.3 9.45l-7.72 7.72c-.78.78-.78 2.05 0 2.83L4 21.41c.39.39.9.59 1.41.59.51 0 1.02-.2 1.41-.59l7.78-7.78 2.81-2.81c.8-.78.8-2.07 0-2.86zM5.41 20L4 18.59l7.72-7.72 1.47 1.35L5.41 20z\"/>\n",
              "  </svg>\n",
              "      </button>\n",
              "      \n",
              "  <style>\n",
              "    .colab-df-container {\n",
              "      display:flex;\n",
              "      flex-wrap:wrap;\n",
              "      gap: 12px;\n",
              "    }\n",
              "\n",
              "    .colab-df-convert {\n",
              "      background-color: #E8F0FE;\n",
              "      border: none;\n",
              "      border-radius: 50%;\n",
              "      cursor: pointer;\n",
              "      display: none;\n",
              "      fill: #1967D2;\n",
              "      height: 32px;\n",
              "      padding: 0 0 0 0;\n",
              "      width: 32px;\n",
              "    }\n",
              "\n",
              "    .colab-df-convert:hover {\n",
              "      background-color: #E2EBFA;\n",
              "      box-shadow: 0px 1px 2px rgba(60, 64, 67, 0.3), 0px 1px 3px 1px rgba(60, 64, 67, 0.15);\n",
              "      fill: #174EA6;\n",
              "    }\n",
              "\n",
              "    [theme=dark] .colab-df-convert {\n",
              "      background-color: #3B4455;\n",
              "      fill: #D2E3FC;\n",
              "    }\n",
              "\n",
              "    [theme=dark] .colab-df-convert:hover {\n",
              "      background-color: #434B5C;\n",
              "      box-shadow: 0px 1px 3px 1px rgba(0, 0, 0, 0.15);\n",
              "      filter: drop-shadow(0px 1px 2px rgba(0, 0, 0, 0.3));\n",
              "      fill: #FFFFFF;\n",
              "    }\n",
              "  </style>\n",
              "\n",
              "      <script>\n",
              "        const buttonEl =\n",
              "          document.querySelector('#df-711df6bd-3a9a-43fe-b295-addaa399a06d button.colab-df-convert');\n",
              "        buttonEl.style.display =\n",
              "          google.colab.kernel.accessAllowed ? 'block' : 'none';\n",
              "\n",
              "        async function convertToInteractive(key) {\n",
              "          const element = document.querySelector('#df-711df6bd-3a9a-43fe-b295-addaa399a06d');\n",
              "          const dataTable =\n",
              "            await google.colab.kernel.invokeFunction('convertToInteractive',\n",
              "                                                     [key], {});\n",
              "          if (!dataTable) return;\n",
              "\n",
              "          const docLinkHtml = 'Like what you see? Visit the ' +\n",
              "            '<a target=\"_blank\" href=https://colab.research.google.com/notebooks/data_table.ipynb>data table notebook</a>'\n",
              "            + ' to learn more about interactive tables.';\n",
              "          element.innerHTML = '';\n",
              "          dataTable['output_type'] = 'display_data';\n",
              "          await google.colab.output.renderOutput(dataTable, element);\n",
              "          const docLink = document.createElement('div');\n",
              "          docLink.innerHTML = docLinkHtml;\n",
              "          element.appendChild(docLink);\n",
              "        }\n",
              "      </script>\n",
              "    </div>\n",
              "  </div>\n",
              "  "
            ]
          },
          "metadata": {},
          "execution_count": 37
        }
      ]
    },
    {
      "cell_type": "code",
      "source": [
        "# check missing values\n",
        "df.isna().sum()"
      ],
      "metadata": {
        "colab": {
          "base_uri": "https://localhost:8080/"
        },
        "id": "I--60AfNvJX4",
        "outputId": "d67baf0d-5b2f-48fe-a274-caca0c2f4ac2"
      },
      "execution_count": 38,
      "outputs": [
        {
          "output_type": "execute_result",
          "data": {
            "text/plain": [
              "user_id         0\n",
              "timestamp       0\n",
              "group           0\n",
              "landing_page    0\n",
              "converted       0\n",
              "dtype: int64"
            ]
          },
          "metadata": {},
          "execution_count": 38
        }
      ]
    },
    {
      "cell_type": "markdown",
      "source": [
        "There is no missing values"
      ],
      "metadata": {
        "id": "rpIoYrHAvPdH"
      }
    },
    {
      "cell_type": "code",
      "source": [
        "# check duplicates\n",
        "df.duplicated().sum()"
      ],
      "metadata": {
        "colab": {
          "base_uri": "https://localhost:8080/"
        },
        "id": "8yfoUDSDvRgb",
        "outputId": "c461b487-3b11-47f5-a9ed-fe67d7c6a739"
      },
      "execution_count": 39,
      "outputs": [
        {
          "output_type": "execute_result",
          "data": {
            "text/plain": [
              "0"
            ]
          },
          "metadata": {},
          "execution_count": 39
        }
      ]
    },
    {
      "cell_type": "markdown",
      "source": [
        "There is no duplicates"
      ],
      "metadata": {
        "id": "CZC4JEFcvWKB"
      }
    },
    {
      "cell_type": "code",
      "source": [
        "df.info()"
      ],
      "metadata": {
        "colab": {
          "base_uri": "https://localhost:8080/"
        },
        "id": "8KgsK-wyvffD",
        "outputId": "866d0c07-2827-4be1-cfcc-bc3e1527479e"
      },
      "execution_count": 40,
      "outputs": [
        {
          "output_type": "stream",
          "name": "stdout",
          "text": [
            "<class 'pandas.core.frame.DataFrame'>\n",
            "RangeIndex: 294478 entries, 0 to 294477\n",
            "Data columns (total 5 columns):\n",
            " #   Column        Non-Null Count   Dtype \n",
            "---  ------        --------------   ----- \n",
            " 0   user_id       294478 non-null  int64 \n",
            " 1   timestamp     294478 non-null  object\n",
            " 2   group         294478 non-null  object\n",
            " 3   landing_page  294478 non-null  object\n",
            " 4   converted     294478 non-null  int64 \n",
            "dtypes: int64(2), object(3)\n",
            "memory usage: 11.2+ MB\n"
          ]
        }
      ]
    },
    {
      "cell_type": "code",
      "source": [
        "# convert timestamp to datetime format and further convert it to YYYY-MM-DD\n",
        "df['timestamp'] = df['timestamp'].astype('datetime64')\n",
        "df['daily'] = df['timestamp'].dt.strftime('%Y-%m-%d')"
      ],
      "metadata": {
        "id": "MYlkz5ezvhyl"
      },
      "execution_count": 41,
      "outputs": []
    },
    {
      "cell_type": "markdown",
      "source": [
        "Ideally the control group should be using old page whereas treatment group should be using landing page. Let's do a sanity check to make sure if this is the case"
      ],
      "metadata": {
        "id": "rjsM3f-zwMLn"
      }
    },
    {
      "cell_type": "code",
      "source": [
        "df.query('group==\"control\"').landing_page.value_counts()"
      ],
      "metadata": {
        "colab": {
          "base_uri": "https://localhost:8080/"
        },
        "id": "vcQapnomvzw4",
        "outputId": "f5c7b1be-16c9-4538-9ada-91be6428a62c"
      },
      "execution_count": 42,
      "outputs": [
        {
          "output_type": "execute_result",
          "data": {
            "text/plain": [
              "old_page    145274\n",
              "new_page      1928\n",
              "Name: landing_page, dtype: int64"
            ]
          },
          "metadata": {},
          "execution_count": 42
        }
      ]
    },
    {
      "cell_type": "code",
      "source": [
        "df.query('group==\"treatment\"').landing_page.value_counts()"
      ],
      "metadata": {
        "colab": {
          "base_uri": "https://localhost:8080/"
        },
        "id": "LklY-caHwriW",
        "outputId": "8b7e4072-6468-4587-8507-2dfe5d5957d9"
      },
      "execution_count": 43,
      "outputs": [
        {
          "output_type": "execute_result",
          "data": {
            "text/plain": [
              "new_page    145311\n",
              "old_page      1965\n",
              "Name: landing_page, dtype: int64"
            ]
          },
          "metadata": {},
          "execution_count": 43
        }
      ]
    },
    {
      "cell_type": "markdown",
      "source": [
        "It turns out that is not the case since we still have a handful new page used by control group and old page used by treatment group. I'll go ahead and remove these mismatch observations"
      ],
      "metadata": {
        "id": "Ww22EnuWw5Ll"
      }
    },
    {
      "cell_type": "code",
      "source": [
        "df = df.query('group==\"control\" & landing_page==\"old_page\"| group==\"treatment\" & landing_page==\"new_page\"')"
      ],
      "metadata": {
        "id": "iAXSs2iAxM9k"
      },
      "execution_count": 44,
      "outputs": []
    },
    {
      "cell_type": "code",
      "source": [
        "df.group.value_counts()"
      ],
      "metadata": {
        "colab": {
          "base_uri": "https://localhost:8080/"
        },
        "id": "0Cc1w0hSx1fh",
        "outputId": "1072d8bd-2c0c-45ed-db3f-4da252b38588"
      },
      "execution_count": 45,
      "outputs": [
        {
          "output_type": "execute_result",
          "data": {
            "text/plain": [
              "treatment    145311\n",
              "control      145274\n",
              "Name: group, dtype: int64"
            ]
          },
          "metadata": {},
          "execution_count": 45
        }
      ]
    },
    {
      "cell_type": "markdown",
      "source": [
        "Since the observations in treatment group and control group are roughly the same (145,311 vs 145,274) so the dataset is balanced. We don't need to use resampling technique to make it balanced"
      ],
      "metadata": {
        "id": "PBdm2uO4x6MX"
      }
    },
    {
      "cell_type": "code",
      "source": [
        "# create a time series plot to show the usage over time\n",
        "control = df.query('group==\"control\"').sort_values(by='daily').groupby('daily').user_id.count().reset_index()\n",
        "treatment = df.query('group==\"treatment\"').sort_values(by='daily').groupby('daily').user_id.count().reset_index()\n",
        "plt.figure(figsize=(25,5))\n",
        "plt.plot(control.daily,control.user_id,label='control_group')\n",
        "plt.plot(treatment.daily,treatment.user_id,label='treatment_group')\n",
        "plt.legend()\n",
        "plt.xlabel('time')\n",
        "plt.ylabel('count')\n",
        "plt.title('The daily usage over time')\n",
        "plt.xticks(rotation=45)\n",
        "plt.show()"
      ],
      "metadata": {
        "colab": {
          "base_uri": "https://localhost:8080/",
          "height": 388
        },
        "id": "sAw_neeyyQct",
        "outputId": "3223a871-df3e-40c0-bf97-2e90bff91372"
      },
      "execution_count": 47,
      "outputs": [
        {
          "output_type": "display_data",
          "data": {
            "text/plain": [
              "<Figure size 1800x360 with 1 Axes>"
            ],
            "image/png": "[encoded data removed]"
          },
          "metadata": {
            "needs_background": "light"
          }
        }
      ]
    },
    {
      "cell_type": "markdown",
      "source": [
        "Seems like the usage between control group and treatment group are consistent with a daily usage around 6500 "
      ],
      "metadata": {
        "id": "i_4TqRS_1VEn"
      }
    },
    {
      "cell_type": "markdown",
      "source": [
        "I'm also curious about the usage by hours between control group and treatment group so I created the below plot to show usage by hours"
      ],
      "metadata": {
        "id": "yMz0bZK0181z"
      }
    },
    {
      "cell_type": "code",
      "source": [
        "df['hour']=df.timestamp.dt.hour"
      ],
      "metadata": {
        "id": "F38UfNDRyQgr"
      },
      "execution_count": 48,
      "outputs": []
    },
    {
      "cell_type": "code",
      "source": [
        "control_hour = df.query('group==\"control\"').groupby('hour').user_id.count().reset_index().sort_values(by='hour')\n",
        "treatment_hour = df.query('group==\"treatment\"').groupby('hour').user_id.count().reset_index().sort_values(by='hour')\n",
        "plt.figure(figsize=(20,5))\n",
        "plt.plot(control_hour.hour,control_hour.user_id,label='countrol_group')\n",
        "plt.plot(treatment_hour.hour,treatment_hour.user_id,label='treatment_group')\n",
        "plt.title('usage by hour')\n",
        "plt.legend()\n",
        "plt.xlabel('hours')\n",
        "plt.ylabel('count')\n",
        "\n",
        "plt.show()"
      ],
      "metadata": {
        "colab": {
          "base_uri": "https://localhost:8080/",
          "height": 350
        },
        "id": "SGLQu4szyQj2",
        "outputId": "ae9c07b3-b84a-469d-82e7-23a2f4d80d78"
      },
      "execution_count": 52,
      "outputs": [
        {
          "output_type": "display_data",
          "data": {
            "text/plain": [
              "<Figure size 1440x360 with 1 Axes>"
            ],
            "image/png": "[encoded data removed]"
          },
          "metadata": {
            "needs_background": "light"
          }
        }
      ]
    },
    {
      "cell_type": "markdown",
      "source": [
        "Seems like the hourly usage between control group and treatment group is very different. I think there are a few possible reasons\n",
        "* The company splitted the user into control group and treatment group based on different time slots\n",
        "* old page and new page affected the user behaviors differently"
      ],
      "metadata": {
        "id": "c-b_cPde4mhP"
      }
    },
    {
      "cell_type": "code",
      "source": [
        "# to check the conversion rate between control group and treatment group\n",
        "con = df.groupby('group').converted.value_counts(normalize=True).mul(100).unstack()\n",
        "print(con)"
      ],
      "metadata": {
        "colab": {
          "base_uri": "https://localhost:8080/"
        },
        "id": "d7qKos2p52t5",
        "outputId": "0ff6208f-aa8e-4b8b-dd01-6680451d2123"
      },
      "execution_count": 91,
      "outputs": [
        {
          "output_type": "stream",
          "name": "stdout",
          "text": [
            "converted          0          1\n",
            "group                          \n",
            "control    87.961370  12.038630\n",
            "treatment  88.119275  11.880725\n"
          ]
        }
      ]
    },
    {
      "cell_type": "markdown",
      "source": [
        "From the above table, it appears that the control group (old page) has higher conversion rate. Hypothetically we could end the test here, but Let's conduct an A/B testing to see if we are seeing the same result using a statistical inference method"
      ],
      "metadata": {
        "id": "A49yyENe--C9"
      }
    },
    {
      "cell_type": "markdown",
      "source": [
        "# 2. A/B Testing\n",
        "step 1: Define the business question and performance metric\n",
        "* The business problem is to figure out if we should launch the new page or not\n",
        "* The performance metric is conversion rate\n",
        "\n",
        "Step 2: Setup the experiment by selecting appropriate sample sizes and randomized groups. I think we have enough samples since we have a large sample size but let's calculate the sample size needed to detect minimum effect.\n",
        "\n",
        "Minimum effect - to raise the conversion rate from 12% to 14%"
      ],
      "metadata": {
        "id": "HGX1Vqfo_xHe"
      }
    },
    {
      "cell_type": "code",
      "source": [
        "effect_size = sms.proportion_effectsize(0.12, 0.14)    \n",
        "\n",
        "sample_size = sms.NormalIndPower().solve_power(\n",
        "    effect_size, \n",
        "    power=0.8,\n",
        "    alpha=0.05,\n",
        "    ratio=1)                                                  \n",
        "\n",
        "sample_size = np.ceil(sample_size)                                             \n",
        "\n",
        "print(sample_size)"
      ],
      "metadata": {
        "colab": {
          "base_uri": "https://localhost:8080/"
        },
        "id": "-B03xvmT_UUG",
        "outputId": "6ed12800-66ee-45f9-92f0-1c48377d1b95"
      },
      "execution_count": 94,
      "outputs": [
        {
          "output_type": "stream",
          "name": "stdout",
          "text": [
            "4433.0\n"
          ]
        }
      ]
    },
    {
      "cell_type": "markdown",
      "source": [
        "We will need 4,433 samples to detect minimum effect"
      ],
      "metadata": {
        "id": "XwP63aa4DVVA"
      }
    },
    {
      "cell_type": "markdown",
      "source": [
        "Step 3: Compare group performance and determine if the difference is statistical significant (with hypothesis testing). \n",
        "\n",
        "I will use proportions z test since we are dealing with conversion rate problem\n",
        "\n",
        "H0: the conversion rate between control group and treatment group is the same\n",
        "H1: the conversion rate between control group and treatment group is different"
      ],
      "metadata": {
        "id": "eDxyYwZCDeiI"
      }
    },
    {
      "cell_type": "code",
      "source": [
        "control = df.query('group==\"control\"')[['converted']]\n",
        "treatment = df.query('group==\"treatment\"')[['converted']]"
      ],
      "metadata": {
        "id": "ASfjPeOKDigM"
      },
      "execution_count": 96,
      "outputs": []
    },
    {
      "cell_type": "code",
      "source": [
        "from statsmodels.stats.proportion import proportions_ztest\n",
        "counts = [control.converted.sum(), treatment.converted.sum()]\n",
        "number_of_obs = [control.shape[0], treatment.shape[0]]\n",
        "z_statistic, p_value = proportions_ztest(counts, number_of_obs)\n",
        "print(f'z statistic is {z_statistic:.2f} and p-value is {p_value:.2f}')\n"
      ],
      "metadata": {
        "colab": {
          "base_uri": "https://localhost:8080/"
        },
        "id": "ATFLbZKlESUZ",
        "outputId": "e42acbee-cc1b-43b9-a900-e5446f9d3fa7"
      },
      "execution_count": 102,
      "outputs": [
        {
          "output_type": "stream",
          "name": "stdout",
          "text": [
            "z statistic is 1.31 and p-value is 0.19\n"
          ]
        }
      ]
    },
    {
      "cell_type": "markdown",
      "source": [
        "The p-value is 0.19 which means that we cannot reject the null hypothesis at a 5% significance level. The new page does not performs better than the old page and we should not launch the new page"
      ],
      "metadata": {
        "id": "11e_DwPdGZBO"
      }
    }
  ]
}